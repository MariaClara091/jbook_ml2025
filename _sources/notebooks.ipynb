{
 "cells": [
  {
   "cell_type": "code",
   "execution_count": 35,
   "metadata": {},
   "outputs": [],
   "source": [
    "import pandas as pd\n",
    "import numpy as np\n",
    "import matplotlib.pyplot as plt\n",
    "import seaborn as sns\n",
    "\n",
    "plt.style.use('ggplot')\n",
    "%matplotlib inline\n",
    "sns.set_palette(\"pastel\")"
   ]
  },
  {
   "cell_type": "code",
   "execution_count": 36,
   "metadata": {},
   "outputs": [
    {
     "name": "stdout",
     "output_type": "stream",
     "text": [
      "   Unnamed: 0                track_id                 artists  \\\n",
      "0           0  5SuOikwiRyPMVoIQDJUgSV             Gen Hoshino   \n",
      "1           1  4qPNDBW1i3p13qLCt0Ki3A            Ben Woodward   \n",
      "2           2  1iJBSr7s7jYXzM8EGcbK5b  Ingrid Michaelson;ZAYN   \n",
      "3           3  6lfxq3CG4xtTiEg7opyCyx            Kina Grannis   \n",
      "4           4  5vjLSffimiIP26QG5WcN2K        Chord Overstreet   \n",
      "\n",
      "                                          album_name  \\\n",
      "0                                             Comedy   \n",
      "1                                   Ghost (Acoustic)   \n",
      "2                                     To Begin Again   \n",
      "3  Crazy Rich Asians (Original Motion Picture Sou...   \n",
      "4                                            Hold On   \n",
      "\n",
      "                   track_name  popularity  duration_ms  explicit  \\\n",
      "0                      Comedy          73       230666     False   \n",
      "1            Ghost - Acoustic          55       149610     False   \n",
      "2              To Begin Again          57       210826     False   \n",
      "3  Can't Help Falling In Love          71       201933     False   \n",
      "4                     Hold On          82       198853     False   \n",
      "\n",
      "   danceability  energy  ...  loudness  mode  speechiness  acousticness  \\\n",
      "0         0.676  0.4610  ...    -6.746     0       0.1430        0.0322   \n",
      "1         0.420  0.1660  ...   -17.235     1       0.0763        0.9240   \n",
      "2         0.438  0.3590  ...    -9.734     1       0.0557        0.2100   \n",
      "3         0.266  0.0596  ...   -18.515     1       0.0363        0.9050   \n",
      "4         0.618  0.4430  ...    -9.681     1       0.0526        0.4690   \n",
      "\n",
      "   instrumentalness  liveness  valence    tempo  time_signature  track_genre  \n",
      "0          0.000001    0.3580    0.715   87.917               4     acoustic  \n",
      "1          0.000006    0.1010    0.267   77.489               4     acoustic  \n",
      "2          0.000000    0.1170    0.120   76.332               4     acoustic  \n",
      "3          0.000071    0.1320    0.143  181.740               3     acoustic  \n",
      "4          0.000000    0.0829    0.167  119.949               4     acoustic  \n",
      "\n",
      "[5 rows x 21 columns]\n",
      "\n",
      "Información del dataset:\n",
      "<class 'pandas.core.frame.DataFrame'>\n",
      "RangeIndex: 114000 entries, 0 to 113999\n",
      "Data columns (total 21 columns):\n",
      " #   Column            Non-Null Count   Dtype  \n",
      "---  ------            --------------   -----  \n",
      " 0   Unnamed: 0        114000 non-null  int64  \n",
      " 1   track_id          114000 non-null  object \n",
      " 2   artists           113999 non-null  object \n",
      " 3   album_name        113999 non-null  object \n",
      " 4   track_name        113999 non-null  object \n",
      " 5   popularity        114000 non-null  int64  \n",
      " 6   duration_ms       114000 non-null  int64  \n",
      " 7   explicit          114000 non-null  bool   \n",
      " 8   danceability      114000 non-null  float64\n",
      " 9   energy            114000 non-null  float64\n",
      " 10  key               114000 non-null  int64  \n",
      " 11  loudness          114000 non-null  float64\n",
      " 12  mode              114000 non-null  int64  \n",
      " 13  speechiness       114000 non-null  float64\n",
      " 14  acousticness      114000 non-null  float64\n",
      " 15  instrumentalness  114000 non-null  float64\n",
      " 16  liveness          114000 non-null  float64\n",
      " 17  valence           114000 non-null  float64\n",
      " 18  tempo             114000 non-null  float64\n",
      " 19  time_signature    114000 non-null  int64  \n",
      " 20  track_genre       114000 non-null  object \n",
      "dtypes: bool(1), float64(9), int64(6), object(5)\n",
      "memory usage: 17.5+ MB\n",
      "None\n",
      "\n",
      "Estadísticas descriptivas:\n",
      "          Unnamed: 0     popularity   duration_ms   danceability  \\\n",
      "count  114000.000000  114000.000000  1.140000e+05  114000.000000   \n",
      "mean    56999.500000      33.238535  2.280292e+05       0.566800   \n",
      "std     32909.109681      22.305078  1.072977e+05       0.173542   \n",
      "min         0.000000       0.000000  0.000000e+00       0.000000   \n",
      "25%     28499.750000      17.000000  1.740660e+05       0.456000   \n",
      "50%     56999.500000      35.000000  2.129060e+05       0.580000   \n",
      "75%     85499.250000      50.000000  2.615060e+05       0.695000   \n",
      "max    113999.000000     100.000000  5.237295e+06       0.985000   \n",
      "\n",
      "              energy            key       loudness           mode  \\\n",
      "count  114000.000000  114000.000000  114000.000000  114000.000000   \n",
      "mean        0.641383       5.309140      -8.258960       0.637553   \n",
      "std         0.251529       3.559987       5.029337       0.480709   \n",
      "min         0.000000       0.000000     -49.531000       0.000000   \n",
      "25%         0.472000       2.000000     -10.013000       0.000000   \n",
      "50%         0.685000       5.000000      -7.004000       1.000000   \n",
      "75%         0.854000       8.000000      -5.003000       1.000000   \n",
      "max         1.000000      11.000000       4.532000       1.000000   \n",
      "\n",
      "         speechiness   acousticness  instrumentalness       liveness  \\\n",
      "count  114000.000000  114000.000000     114000.000000  114000.000000   \n",
      "mean        0.084652       0.314910          0.156050       0.213553   \n",
      "std         0.105732       0.332523          0.309555       0.190378   \n",
      "min         0.000000       0.000000          0.000000       0.000000   \n",
      "25%         0.035900       0.016900          0.000000       0.098000   \n",
      "50%         0.048900       0.169000          0.000042       0.132000   \n",
      "75%         0.084500       0.598000          0.049000       0.273000   \n",
      "max         0.965000       0.996000          1.000000       1.000000   \n",
      "\n",
      "             valence          tempo  time_signature  \n",
      "count  114000.000000  114000.000000   114000.000000  \n",
      "mean        0.474068     122.147837        3.904035  \n",
      "std         0.259261      29.978197        0.432621  \n",
      "min         0.000000       0.000000        0.000000  \n",
      "25%         0.260000      99.218750        4.000000  \n",
      "50%         0.464000     122.017000        4.000000  \n",
      "75%         0.683000     140.071000        4.000000  \n",
      "max         0.995000     243.372000        5.000000  \n"
     ]
    }
   ],
   "source": [
    "df = pd.read_csv('datasetof.csv') \n",
    "\n",
    "print(df.head())\n",
    "\n",
    "print(\"\\nInformación del dataset:\")\n",
    "print(df.info())\n",
    "\n",
    "print(\"\\nEstadísticas descriptivas:\")\n",
    "print(df.describe())"
   ]
  },
  {
   "cell_type": "code",
   "execution_count": 37,
   "metadata": {},
   "outputs": [
    {
     "name": "stdout",
     "output_type": "stream",
     "text": [
      "\n",
      "Valores nulos por columna:\n",
      "Unnamed: 0          0\n",
      "track_id            0\n",
      "artists             1\n",
      "album_name          1\n",
      "track_name          1\n",
      "popularity          0\n",
      "duration_ms         0\n",
      "explicit            0\n",
      "danceability        0\n",
      "energy              0\n",
      "key                 0\n",
      "loudness            0\n",
      "mode                0\n",
      "speechiness         0\n",
      "acousticness        0\n",
      "instrumentalness    0\n",
      "liveness            0\n",
      "valence             0\n",
      "tempo               0\n",
      "time_signature      0\n",
      "track_genre         0\n",
      "dtype: int64\n",
      "\n",
      "Número de duplicados: 450\n",
      "\n",
      "Valores únicos en track_genre: 114\n",
      "track_genre\n",
      "acoustic       1000\n",
      "emo            1000\n",
      "rock-n-roll    1000\n",
      "reggaeton      1000\n",
      "disco          1000\n",
      "r-n-b          1000\n",
      "punk-rock      1000\n",
      "pagode         1000\n",
      "electronic     1000\n",
      "mpb            1000\n",
      "Name: count, dtype: int64\n"
     ]
    }
   ],
   "source": [
    "# Verificamos nulos\n",
    "print(\"\\nValores nulos por columna:\")\n",
    "print(df.isnull().sum())\n",
    "\n",
    "# Eliminar columna innecesaria si existe\n",
    "if 'Unnamed: 0' in df.columns:\n",
    "    df.drop('Unnamed: 0', axis=1, inplace=True)\n",
    "\n",
    "# Verificamos duplicados\n",
    "print(\"\\nNúmero de duplicados:\", df.duplicated().sum())\n",
    "\n",
    "# Eliminar duplicados si los hay\n",
    "df = df.drop_duplicates()\n",
    "\n",
    "# Verificar valores únicos en las columnas categóricas\n",
    "print(\"\\nValores únicos en track_genre:\", df['track_genre'].nunique())\n",
    "print(df['track_genre'].value_counts().head(10))"
   ]
  },
  {
   "cell_type": "code",
   "execution_count": 38,
   "metadata": {},
   "outputs": [
    {
     "name": "stdout",
     "output_type": "stream",
     "text": [
      "track_id            0\n",
      "artists             0\n",
      "album_name          1\n",
      "track_name          1\n",
      "popularity          0\n",
      "duration_ms         0\n",
      "explicit            0\n",
      "danceability        0\n",
      "energy              0\n",
      "key                 0\n",
      "loudness            0\n",
      "mode                0\n",
      "speechiness         0\n",
      "acousticness        0\n",
      "instrumentalness    0\n",
      "liveness            0\n",
      "valence             0\n",
      "tempo               0\n",
      "time_signature      0\n",
      "track_genre         0\n",
      "dtype: int64\n",
      "track_id            0\n",
      "artists             0\n",
      "album_name          0\n",
      "track_name          1\n",
      "popularity          0\n",
      "duration_ms         0\n",
      "explicit            0\n",
      "danceability        0\n",
      "energy              0\n",
      "key                 0\n",
      "loudness            0\n",
      "mode                0\n",
      "speechiness         0\n",
      "acousticness        0\n",
      "instrumentalness    0\n",
      "liveness            0\n",
      "valence             0\n",
      "tempo               0\n",
      "time_signature      0\n",
      "track_genre         0\n",
      "dtype: int64\n",
      "track_id            0\n",
      "artists             0\n",
      "album_name          0\n",
      "track_name          0\n",
      "popularity          0\n",
      "duration_ms         0\n",
      "explicit            0\n",
      "danceability        0\n",
      "energy              0\n",
      "key                 0\n",
      "loudness            0\n",
      "mode                0\n",
      "speechiness         0\n",
      "acousticness        0\n",
      "instrumentalness    0\n",
      "liveness            0\n",
      "valence             0\n",
      "tempo               0\n",
      "time_signature      0\n",
      "track_genre         0\n",
      "dtype: int64\n"
     ]
    }
   ],
   "source": [
    "#Tratamiento de nulos\n",
    "for col in ['artists', 'album_name', 'track_name']:\n",
    "    df[col] = df[col].fillna(f\"Missing_{col}\")\n",
    "    print(df.isnull().sum()) "
   ]
  },
  {
   "cell_type": "code",
   "execution_count": 39,
   "metadata": {},
   "outputs": [
    {
     "name": "stderr",
     "output_type": "stream",
     "text": [
      "c:\\Users\\Administrador\\miniconda3\\envs\\ml_venv\\lib\\site-packages\\seaborn\\_oldcore.py:1498: FutureWarning: is_categorical_dtype is deprecated and will be removed in a future version. Use isinstance(dtype, CategoricalDtype) instead\n",
      "  if pd.api.types.is_categorical_dtype(vector):\n",
      "c:\\Users\\Administrador\\miniconda3\\envs\\ml_venv\\lib\\site-packages\\seaborn\\_oldcore.py:1119: FutureWarning: use_inf_as_na option is deprecated and will be removed in a future version. Convert inf values to NaN before operating instead.\n",
      "  with pd.option_context('mode.use_inf_as_na', True):\n"
     ]
    },
    {
     "data": {
      "image/png": "[encoded data removed]",
      "text/plain": [
       "<Figure size 1000x600 with 1 Axes>"
      ]
     },
     "metadata": {},
     "output_type": "display_data"
    },
    {
     "name": "stdout",
     "output_type": "stream",
     "text": [
      "\n",
      "Estadísticas de popularidad:\n",
      "count    113550.000000\n",
      "mean         33.324139\n",
      "std          22.283976\n",
      "min           0.000000\n",
      "25%          17.000000\n",
      "50%          35.000000\n",
      "75%          50.000000\n",
      "max         100.000000\n",
      "Name: popularity, dtype: float64\n"
     ]
    },
    {
     "name": "stderr",
     "output_type": "stream",
     "text": [
      "c:\\Users\\Administrador\\miniconda3\\envs\\ml_venv\\lib\\site-packages\\seaborn\\_oldcore.py:1498: FutureWarning: is_categorical_dtype is deprecated and will be removed in a future version. Use isinstance(dtype, CategoricalDtype) instead\n",
      "  if pd.api.types.is_categorical_dtype(vector):\n"
     ]
    },
    {
     "data": {
      "image/png": "[encoded data removed]",
      "text/plain": [
       "<Figure size 800x500 with 1 Axes>"
      ]
     },
     "metadata": {},
     "output_type": "display_data"
    }
   ],
   "source": [
    "# Análisis de la distribución de popularity\n",
    "plt.figure(figsize=(10, 6))\n",
    "sns.histplot(df['popularity'], bins=30, kde=True)\n",
    "plt.title('Distribución de Popularidad de las Canciones')\n",
    "plt.xlabel('Popularidad')\n",
    "plt.ylabel('Frecuencia')\n",
    "plt.show()\n",
    "\n",
    "# Estadísticas descriptivas de popularity\n",
    "print(\"\\nEstadísticas de popularidad:\")\n",
    "print(df['popularity'].describe())\n",
    "\n",
    "# Boxplot de popularity\n",
    "plt.figure(figsize=(8, 5))\n",
    "sns.boxplot(y=df['popularity'])\n",
    "plt.title('Boxplot de Popularidad')\n",
    "plt.show()"
   ]
  },
  {
   "cell_type": "markdown",
   "metadata": {},
   "source": [
    "Haciendo un análisis de popularidad vemos que en la distribución de popularidad presenta una media de entre 33.32 ± 22.28 teniendo moderada variabilidad\n",
    "Tiene un rango de entre 0 a 100.\n",
    "Presenta sus cuartiles de:\n",
    "Q1(25%): 17\n",
    "Mediana: 35\n",
    "Q3 (75%): 50\n",
    "\n",
    "La distribución es ligeramente asimétrica hacia valores bajos, lo cual significa que pocas canciones alcanzan popularidad máxima (100)."
   ]
  },
  {
   "cell_type": "markdown",
   "metadata": {},
   "source": [
    "En cuanto a las estadísticas de las características musicales tenemos:\n",
    "\n",
    "La duración promedio está entre unos 228 segundos (3.8 minutos) y su máximo es de 5,237 segundos ( aprox. 87 minutos). Esto da a ver que hay posibles datos atípicos, como canciones de sinfonías.\n",
    "\n",
    "Con capacidad de baile presenta una distribución relativamente simétrica, lo cual podría indicar que los artistas producen música con diversidad en esta característica. También no hay un sesgo cultural hacia música muy bailable o no bailable. Y El mercado musical abarca todo el espectro de esta característica.\n",
    "\n",
    "La distribución de popularidad revela un rango amplio pero concentrado pues va de 0 a 100. También el 75% de canciones tienen popularidad menor o igual a 50 y solo canciones excepcionales alcanzan más de 75.\n",
    "\n",
    "La cola izquierda más larga indica que muchas canciones poco populares y pocos éxitos. \n",
    "\n",
    "Por lo cual la popularidad en 'principio no sigue distribución normal y el mercado musical es altamente competitivo."
   ]
  },
  {
   "cell_type": "code",
   "execution_count": 40,
   "metadata": {},
   "outputs": [
    {
     "name": "stdout",
     "output_type": "stream",
     "text": [
      "Unexpected exception formatting exception. Falling back to standard exception\n"
     ]
    },
    {
     "name": "stderr",
     "output_type": "stream",
     "text": [
      "Traceback (most recent call last):\n",
      "  File \"c:\\Users\\Administrador\\miniconda3\\envs\\ml_venv\\lib\\site-packages\\IPython\\core\\interactiveshell.py\", line 3526, in run_code\n",
      "    exec(code_obj, self.user_global_ns, self.user_ns)\n",
      "  File \"C:\\Users\\Administrador\\AppData\\Local\\Temp\\ipykernel_4816\\3842170412.py\", line 6, in <module>\n",
      "    popularity_by_genre.head(10).plot(kind='bar')\n",
      "  File \"c:\\Users\\Administrador\\miniconda3\\envs\\ml_venv\\lib\\site-packages\\pandas\\plotting\\_core.py\", line 951, in __call__\n",
      "    )\n",
      "  File \"c:\\Users\\Administrador\\miniconda3\\envs\\ml_venv\\lib\\site-packages\\pandas\\plotting\\_core.py\", line 1947, in _get_plot_backend\n",
      "  File \"c:\\Users\\Administrador\\miniconda3\\envs\\ml_venv\\lib\\site-packages\\pandas\\plotting\\_core.py\", line 1877, in _load_backend\n",
      "    ) from None\n",
      "ImportError: matplotlib is required for plotting when the default backend \"matplotlib\" is selected.\n",
      "\n",
      "During handling of the above exception, another exception occurred:\n",
      "\n",
      "Traceback (most recent call last):\n",
      "  File \"c:\\Users\\Administrador\\miniconda3\\envs\\ml_venv\\lib\\site-packages\\IPython\\core\\interactiveshell.py\", line 2120, in showtraceback\n",
      "    stb = self.InteractiveTB.structured_traceback(\n",
      "  File \"c:\\Users\\Administrador\\miniconda3\\envs\\ml_venv\\lib\\site-packages\\IPython\\core\\ultratb.py\", line 1435, in structured_traceback\n",
      "    return FormattedTB.structured_traceback(\n",
      "  File \"c:\\Users\\Administrador\\miniconda3\\envs\\ml_venv\\lib\\site-packages\\IPython\\core\\ultratb.py\", line 1326, in structured_traceback\n",
      "    return VerboseTB.structured_traceback(\n",
      "  File \"c:\\Users\\Administrador\\miniconda3\\envs\\ml_venv\\lib\\site-packages\\IPython\\core\\ultratb.py\", line 1173, in structured_traceback\n",
      "    formatted_exception = self.format_exception_as_a_whole(etype, evalue, etb, number_of_lines_of_context,\n",
      "  File \"c:\\Users\\Administrador\\miniconda3\\envs\\ml_venv\\lib\\site-packages\\IPython\\core\\ultratb.py\", line 1088, in format_exception_as_a_whole\n",
      "    frames.append(self.format_record(record))\n",
      "  File \"c:\\Users\\Administrador\\miniconda3\\envs\\ml_venv\\lib\\site-packages\\IPython\\core\\ultratb.py\", line 970, in format_record\n",
      "    frame_info.lines, Colors, self.has_colors, lvals\n",
      "  File \"c:\\Users\\Administrador\\miniconda3\\envs\\ml_venv\\lib\\site-packages\\IPython\\core\\ultratb.py\", line 792, in lines\n",
      "    return self._sd.lines\n",
      "  File \"c:\\Users\\Administrador\\miniconda3\\envs\\ml_venv\\lib\\site-packages\\stack_data\\utils.py\", line 144, in cached_property_wrapper\n",
      "    value = obj.__dict__[self.func.__name__] = self.func(obj)\n",
      "  File \"c:\\Users\\Administrador\\miniconda3\\envs\\ml_venv\\lib\\site-packages\\stack_data\\core.py\", line 734, in lines\n",
      "    pieces = self.included_pieces\n",
      "  File \"c:\\Users\\Administrador\\miniconda3\\envs\\ml_venv\\lib\\site-packages\\stack_data\\utils.py\", line 144, in cached_property_wrapper\n",
      "    value = obj.__dict__[self.func.__name__] = self.func(obj)\n",
      "  File \"c:\\Users\\Administrador\\miniconda3\\envs\\ml_venv\\lib\\site-packages\\stack_data\\core.py\", line 681, in included_pieces\n",
      "    pos = scope_pieces.index(self.executing_piece)\n",
      "  File \"c:\\Users\\Administrador\\miniconda3\\envs\\ml_venv\\lib\\site-packages\\stack_data\\utils.py\", line 144, in cached_property_wrapper\n",
      "    value = obj.__dict__[self.func.__name__] = self.func(obj)\n",
      "  File \"c:\\Users\\Administrador\\miniconda3\\envs\\ml_venv\\lib\\site-packages\\stack_data\\core.py\", line 660, in executing_piece\n",
      "    return only(\n",
      "  File \"c:\\Users\\Administrador\\miniconda3\\envs\\ml_venv\\lib\\site-packages\\executing\\executing.py\", line 190, in only\n",
      "    raise NotOneValueFound('Expected one value, found 0')\n",
      "executing.executing.NotOneValueFound: Expected one value, found 0\n"
     ]
    },
    {
     "data": {
      "text/plain": [
       "<Figure size 1200x600 with 0 Axes>"
      ]
     },
     "metadata": {},
     "output_type": "display_data"
    }
   ],
   "source": [
    "# Popularidad promedio por género\n",
    "popularity_by_genre = df.groupby('track_genre')['popularity'].mean().sort_values(ascending=False)\n",
    "\n",
    "# Top 10 géneros más populares\n",
    "plt.figure(figsize=(12, 6))\n",
    "popularity_by_genre.head(10).plot(kind='bar')\n",
    "plt.title('Top 10 Géneros con Mayor Popularidad Promedio')\n",
    "plt.xlabel('Género Musical')\n",
    "plt.ylabel('Popularidad Promedio')\n",
    "plt.xticks(rotation=45)\n",
    "plt.show()\n",
    "\n",
    "# Bottom 10 géneros menos populares\n",
    "plt.figure(figsize=(12, 6))\n",
    "popularity_by_genre.tail(10).plot(kind='bar')\n",
    "plt.title('Top 10 Géneros con Menor Popularidad Promedio')\n",
    "plt.xlabel('Género Musical')\n",
    "plt.ylabel('Popularidad Promedio')\n",
    "plt.xticks(rotation=45)\n",
    "plt.show()\n",
    "\n",
    "# Distribución de popularidad por género (boxplot para los principales géneros)\n",
    "top_genres = popularity_by_genre.head(10).index\n",
    "df_top_genres = df[df['track_genre'].isin(top_genres)]\n",
    "\n",
    "plt.figure(figsize=(14, 8))\n",
    "sns.boxplot(x='track_genre', y='popularity', data=df_top_genres)\n",
    "plt.title('Distribución de Popularidad por Género (Top 10)')\n",
    "plt.xlabel('Género Musical')\n",
    "plt.ylabel('Popularidad')\n",
    "plt.xticks(rotation=45)\n",
    "plt.show()"
   ]
  },
  {
   "cell_type": "markdown",
   "metadata": {},
   "source": [
    "Tiene asimetría negativa con un pico entre 35 y 40 y una caída en 60.\n",
    "Hay una pequeña dificultad para superar este umbral pues las canciones con 0 popularidad posiblemente son muy antiguas o nicho. Y canciones con 100 son los éxitos virales o campañas promocionales."
   ]
  },
  {
   "cell_type": "code",
   "execution_count": null,
   "metadata": {},
   "outputs": [],
   "source": [
    "# Calcular la matriz de correlación\n",
    "spotify_num = df.select_dtypes(include=np.number)\n",
    "\n",
    "corr = spotify_num.corr()\n",
    "print(\"Matriz de correlación:\", corr.shape)\n",
    "\n",
    "# Crear la máscara para ocultar la mitad superior\n",
    "mask = np.zeros_like(corr)\n",
    "mask[np.triu_indices_from(mask)] = True\n",
    "\n",
    "# Configurar el estilo y mostrar el mapa de calor\n",
    "sns.set(font_scale=1.2)\n",
    "plt.figure(figsize=(16, 14))\n",
    "sns.heatmap(corr, mask=mask, cmap='Reds', annot=True, fmt='.2f', annot_kws={\"size\": 12}, cbar=True)\n",
    "plt.title(\"Matriz de Correlación - Dataset de Spotify\", fontsize=16)\n",
    "plt.tight_layout()\n",
    "plt.show()"
   ]
  },
  {
   "cell_type": "code",
   "execution_count": null,
   "metadata": {},
   "outputs": [],
   "source": [
    "# Popularidad por género y explicit content\n",
    "plt.figure(figsize=(14, 8))\n",
    "sns.boxplot(x='track_genre', y='popularity', hue='explicit', \n",
    "            data=df[df['track_genre'].isin(top_genres)])\n",
    "plt.title('Popularidad por Género y Contenido Explícito')\n",
    "plt.xlabel('Género Musical')\n",
    "plt.ylabel('Popularidad')\n",
    "plt.xticks(rotation=45)\n",
    "plt.legend(title='Explícito')\n",
    "plt.show()\n",
    "\n",
    "# Relación entre popularity, danceability y energy\n",
    "plt.figure(figsize=(10, 8))\n",
    "sns.scatterplot(x='danceability', y='energy', size='popularity', \n",
    "                hue='popularity', data=df, alpha=0.6, sizes=(20, 200))\n",
    "plt.title('Relación entre Danceability, Energy y Popularidad')\n",
    "plt.show()"
   ]
  },
  {
   "cell_type": "code",
   "execution_count": null,
   "metadata": {},
   "outputs": [],
   "source": [
    "# Resumen de hallazgos\n",
    "print(\"\\nResumen de hallazgos:\")\n",
    "print(f\"- Cantidad total de géneros únicos: {df['track_genre'].nunique()}\")\n",
    "print(f\"- Género más popular en promedio: {popularity_by_genre.idxmax()} ({popularity_by_genre.max():.2f})\")\n",
    "print(f\"- Género menos popular en promedio: {popularity_by_genre.idxmin()} ({popularity_by_genre.min():.2f})\")\n",
    "print(\"- Variables más correlacionadas con popularidad:\")\n",
    "print(corr_matrix['popularity'].sort_values(ascending=False).head(5))"
   ]
  },
  {
   "cell_type": "markdown",
   "metadata": {},
   "source": [
    "Concluimos que hay mucha diversidad musical hoy en día pues hay 114 géneros bien representados.\n",
    "Contiene una distribución balanceada de géneros y una distribución asimétrica de popularidad, lo que sugiere que todos los géneros tienen oportunidad pero pocos alcanzan máxima popularidad.\n",
    "\n",
    "\n",
    "Este EDA representa la diversidad musical actual. Captura la dinámica competitiva de la industria ofrenciendo oportunidades para descubrir patrones ocultos en ciertos géneros, poder predecir un éxito musical y optimizar recomendaciones\n",
    "\n",
    "Pero unas limitantes serían que no se considera temporalidad (es decir, evolución histórica). También carece de datos demográficos de oyentes. Contiene métricas de popularidad pueden tener sesgos algorítmicos, lo cual es dificil de analizar.\n",
    "\n",
    "Y para predicciones futuras se podría tener en cuenta análisis temporal de tendencias, una segmentación por región geográfica y un modelado de factores de éxito."
   ]
  }
 ],
 "metadata": {
  "kernelspec": {
   "display_name": "ml_venv",
   "language": "python",
   "name": "python3"
  },
  "language_info": {
   "codemirror_mode": {
    "name": "ipython",
    "version": 3
   },
   "file_extension": ".py",
   "mimetype": "text/x-python",
   "name": "python",
   "nbconvert_exporter": "python",
   "pygments_lexer": "ipython3",
   "version": "3.9.23"
  },
  "widgets": {
   "application/vnd.jupyter.widget-state+json": {
    "state": {},
    "version_major": 2,
    "version_minor": 0
   }
  }
 },
 "nbformat": 4,
 "nbformat_minor": 4
}
